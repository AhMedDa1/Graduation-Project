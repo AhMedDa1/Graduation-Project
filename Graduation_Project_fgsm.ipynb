{
  "nbformat": 4,
  "nbformat_minor": 0,
  "metadata": {
    "colab": {
      "name": "Graduation Project_fgsm.ipynb",
      "provenance": [],
      "collapsed_sections": [],
      "include_colab_link": true
    },
    "kernelspec": {
      "name": "python3",
      "display_name": "Python 3"
    },
    "widgets": {
      "application/vnd.jupyter.widget-state+json": {
        "1246cfe470d14c15884ee12ca51d556c": {
          "model_module": "@jupyter-widgets/controls",
          "model_name": "VBoxModel",
          "model_module_version": "1.5.0",
          "state": {
            "_view_name": "VBoxView",
            "_dom_classes": [
              "widget-interact"
            ],
            "_model_name": "VBoxModel",
            "_view_module": "@jupyter-widgets/controls",
            "_model_module_version": "1.5.0",
            "_view_count": null,
            "_view_module_version": "1.5.0",
            "box_style": "",
            "layout": "IPY_MODEL_5d76b831c6c44edf994b9d2873225644",
            "_model_module": "@jupyter-widgets/controls",
            "children": [
              "IPY_MODEL_abdcbbae3853410a91cb446d396f5fae",
              "IPY_MODEL_65c936f5455e40c0b425f3a212ea677a"
            ]
          }
        },
        "5d76b831c6c44edf994b9d2873225644": {
          "model_module": "@jupyter-widgets/base",
          "model_name": "LayoutModel",
          "model_module_version": "1.2.0",
          "state": {
            "_view_name": "LayoutView",
            "grid_template_rows": null,
            "right": null,
            "justify_content": null,
            "_view_module": "@jupyter-widgets/base",
            "overflow": null,
            "_model_module_version": "1.2.0",
            "_view_count": null,
            "flex_flow": null,
            "width": null,
            "min_width": null,
            "border": null,
            "align_items": null,
            "bottom": null,
            "_model_module": "@jupyter-widgets/base",
            "top": null,
            "grid_column": null,
            "overflow_y": null,
            "overflow_x": null,
            "grid_auto_flow": null,
            "grid_area": null,
            "grid_template_columns": null,
            "flex": null,
            "_model_name": "LayoutModel",
            "justify_items": null,
            "grid_row": null,
            "max_height": null,
            "align_content": null,
            "visibility": null,
            "align_self": null,
            "height": null,
            "min_height": null,
            "padding": null,
            "grid_auto_rows": null,
            "grid_gap": null,
            "max_width": null,
            "order": null,
            "_view_module_version": "1.2.0",
            "grid_template_areas": null,
            "object_position": null,
            "object_fit": null,
            "grid_auto_columns": null,
            "margin": null,
            "display": null,
            "left": null
          }
        },
        "abdcbbae3853410a91cb446d396f5fae": {
          "model_module": "@jupyter-widgets/controls",
          "model_name": "SelectMultipleModel",
          "model_module_version": "1.5.0",
          "state": {
            "_options_labels": [
              "img_Number_16_labled_2.png",
              "img_Number_15_labled_7.png",
              "img_Number_19_labled_9.png",
              "img_Number_3_labled_1.png",
              "img_Number_13_labled_6.png",
              "img_Number_6_labled_1.png",
              "img_Number_2_labled_4.png",
              "img_Number_4_labled_9.png",
              "img_Number_8_labled_1.png",
              "img_Number_0_labled_5.png",
              "img_Number_1_labled_0.png",
              "img_Number_12_labled_3.png",
              "img_Number_14_labled_1.png",
              "img_Number_7_labled_3.png",
              "img_Number_10_labled_3.png",
              "img_Number_17_labled_8.png",
              "img_Number_18_labled_6.png",
              "img_Number_11_labled_5.png",
              "img_Number_5_labled_2.png",
              "img_Number_9_labled_4.png"
            ],
            "_view_name": "SelectMultipleView",
            "style": "IPY_MODEL_0fa5789724cf4c4fa4e3de54eb60e71a",
            "rows": 10,
            "_dom_classes": [],
            "description": "symbols",
            "_model_name": "SelectMultipleModel",
            "index": [
              4
            ],
            "_view_module": "@jupyter-widgets/controls",
            "_model_module_version": "1.5.0",
            "_view_count": null,
            "disabled": false,
            "_view_module_version": "1.5.0",
            "description_tooltip": null,
            "_model_module": "@jupyter-widgets/controls",
            "layout": "IPY_MODEL_756852565eb64f1a9ab2576df9ad6d62"
          }
        },
        "65c936f5455e40c0b425f3a212ea677a": {
          "model_module": "@jupyter-widgets/output",
          "model_name": "OutputModel",
          "model_module_version": "1.0.0",
          "state": {
            "_view_name": "OutputView",
            "msg_id": "",
            "_dom_classes": [],
            "_model_name": "OutputModel",
            "outputs": [
              {
                "output_type": "display_data",
                "metadata": {
                  "tags": [],
                  "image/png": {
                    "width": 150,
                    "height": 150
                  }
                },
                "image/png": "iVBORw0KGgoAAAANSUhEUgAAABwAAAAcCAAAAABXZoBIAAABV0lEQVQoFX3BTUiTcQDH8e+vPESkhJclGM/Jp2MDDzYiEAxhM1LWoR061M2DIW0rS0LBkEkvOIhOQZAMOgTSnNYgcIyhhAge6iI7iOHCwzoEo2OPL/9ne548PJ+PCCACiBPs4mkLl/jf69udyyO4hF9o8YrzY+A3LuFjv4zp8WaJJuETqaA7H2gRHrtoEc/jEZ5nT76M1vARLevhX9EqfqJpeNF58WYPP+E6//SBM/kcGL9IGkO42pf6/139RtK5b3Gqu8YR4brxST8Hq+Gpm/zdu7SR2OWQMNrvzu+/m7KnE/WvrzpWt6O7HBJGtMDMTOhtrJFL9Xzsyo1xRBgTs7Sx1sdAOVIhm+aYMDKP8vHwyoVU1i5aqSyGMDIP87fCha6F62d24n8aGMKIVLh2ee4cqt/7TJMwektn5QCN3BgtwjWU7Hd4/32rjEcEEAFEABFABBABDgD2plkds22iwQAAAABJRU5ErkJggg==\n",
                "text/plain": "<IPython.core.display.Image object>"
              }
            ],
            "_view_module": "@jupyter-widgets/output",
            "_model_module_version": "1.0.0",
            "_view_count": null,
            "_view_module_version": "1.0.0",
            "layout": "IPY_MODEL_e549c80d5061408ea51dcd90f7158f88",
            "_model_module": "@jupyter-widgets/output"
          }
        },
        "0fa5789724cf4c4fa4e3de54eb60e71a": {
          "model_module": "@jupyter-widgets/controls",
          "model_name": "DescriptionStyleModel",
          "model_module_version": "1.5.0",
          "state": {
            "_view_name": "StyleView",
            "_model_name": "DescriptionStyleModel",
            "description_width": "",
            "_view_module": "@jupyter-widgets/base",
            "_model_module_version": "1.5.0",
            "_view_count": null,
            "_view_module_version": "1.2.0",
            "_model_module": "@jupyter-widgets/controls"
          }
        },
        "756852565eb64f1a9ab2576df9ad6d62": {
          "model_module": "@jupyter-widgets/base",
          "model_name": "LayoutModel",
          "model_module_version": "1.2.0",
          "state": {
            "_view_name": "LayoutView",
            "grid_template_rows": null,
            "right": null,
            "justify_content": null,
            "_view_module": "@jupyter-widgets/base",
            "overflow": null,
            "_model_module_version": "1.2.0",
            "_view_count": null,
            "flex_flow": null,
            "width": null,
            "min_width": null,
            "border": null,
            "align_items": null,
            "bottom": null,
            "_model_module": "@jupyter-widgets/base",
            "top": null,
            "grid_column": null,
            "overflow_y": null,
            "overflow_x": null,
            "grid_auto_flow": null,
            "grid_area": null,
            "grid_template_columns": null,
            "flex": null,
            "_model_name": "LayoutModel",
            "justify_items": null,
            "grid_row": null,
            "max_height": null,
            "align_content": null,
            "visibility": null,
            "align_self": null,
            "height": null,
            "min_height": null,
            "padding": null,
            "grid_auto_rows": null,
            "grid_gap": null,
            "max_width": null,
            "order": null,
            "_view_module_version": "1.2.0",
            "grid_template_areas": null,
            "object_position": null,
            "object_fit": null,
            "grid_auto_columns": null,
            "margin": null,
            "display": null,
            "left": null
          }
        },
        "e549c80d5061408ea51dcd90f7158f88": {
          "model_module": "@jupyter-widgets/base",
          "model_name": "LayoutModel",
          "model_module_version": "1.2.0",
          "state": {
            "_view_name": "LayoutView",
            "grid_template_rows": null,
            "right": null,
            "justify_content": null,
            "_view_module": "@jupyter-widgets/base",
            "overflow": null,
            "_model_module_version": "1.2.0",
            "_view_count": null,
            "flex_flow": null,
            "width": null,
            "min_width": null,
            "border": null,
            "align_items": null,
            "bottom": null,
            "_model_module": "@jupyter-widgets/base",
            "top": null,
            "grid_column": null,
            "overflow_y": null,
            "overflow_x": null,
            "grid_auto_flow": null,
            "grid_area": null,
            "grid_template_columns": null,
            "flex": null,
            "_model_name": "LayoutModel",
            "justify_items": null,
            "grid_row": null,
            "max_height": null,
            "align_content": null,
            "visibility": null,
            "align_self": null,
            "height": null,
            "min_height": null,
            "padding": null,
            "grid_auto_rows": null,
            "grid_gap": null,
            "max_width": null,
            "order": null,
            "_view_module_version": "1.2.0",
            "grid_template_areas": null,
            "object_position": null,
            "object_fit": null,
            "grid_auto_columns": null,
            "margin": null,
            "display": null,
            "left": null
          }
        }
      }
    }
  },
  "cells": [
    {
      "cell_type": "markdown",
      "metadata": {
        "id": "view-in-github",
        "colab_type": "text"
      },
      "source": [
        "<a href=\"https://colab.research.google.com/github/AhMedDa1/Graduation-Project/blob/main/Graduation_Project_fgsm.ipynb\" target=\"_parent\"><img src=\"https://colab.research.google.com/assets/colab-badge.svg\" alt=\"Open In Colab\"/></a>"
      ]
    },
    {
      "cell_type": "markdown",
      "metadata": {
        "id": "NVRz1PxQsT-7"
      },
      "source": [
        "**mount** **your** **drive**"
      ]
    },
    {
      "cell_type": "markdown",
      "metadata": {
        "id": "NlE-32EZhNlZ"
      },
      "source": [
        "# downloading some nacessary files\n"
      ]
    },
    {
      "cell_type": "code",
      "metadata": {
        "id": "sEx-QLLusQFf",
        "cellView": "both"
      },
      "source": [
        "\n",
        "!mkdir -p \"images\""
      ],
      "execution_count": null,
      "outputs": []
    },
    {
      "cell_type": "code",
      "metadata": {
        "id": "fNsbcd9q_ZgS"
      },
      "source": [
        "# !pip install hiddenlayer\n",
        "# !pip install graphviz\n",
        "!wget \"https://drive.google.com/uc?export=download&id=13_S2d6Wf_tR-vTSa-u4d-tmRgudcgyCH\" -O \"9920.pth.tar\"\n",
        "!wget \"https://drive.google.com/uc?export=download&id=13OGRlOtx2QiapEJsmRiVKUleoK3PjXjB\" -O model_mnist.py &> download.log\n"
      ],
      "execution_count": null,
      "outputs": []
    },
    {
      "cell_type": "code",
      "metadata": {
        "id": "crtGZGm820co"
      },
      "source": [
        "import torchvision \n",
        "import numpy as np\n",
        "import cv2\n",
        "\n",
        "root  = \"MNIST\"\n",
        "train = torchvision.datasets.MNIST(root, train=True, transform=None, target_transform=None, download=True)\n",
        "\n",
        "for i in range(20):\n",
        "  imag_data = np.array(train.data[i,:,:])\n",
        "  lable = train.targets[i]\n",
        "  cv2.imwrite(\"images/img_Number_{}_labled_{}.png\".format(i,lable), imag_data )"
      ],
      "execution_count": null,
      "outputs": []
    },
    {
      "cell_type": "markdown",
      "metadata": {
        "id": "lbPodzUNtufv"
      },
      "source": [
        "**the** **code**"
      ]
    },
    {
      "cell_type": "markdown",
      "metadata": {
        "id": "8sxXqQl7hXt4"
      },
      "source": [
        "# the main code\n"
      ]
    },
    {
      "cell_type": "code",
      "metadata": {
        "id": "LYcPDtOYt05-"
      },
      "source": [
        "import torch  # pytorch   the framwork we use for the model and the optimizaing  \n",
        "from torch.autograd import Variable\n",
        "from torchvision import models\n",
        "import torch.nn as nn\n",
        "from torchvision import transforms\n",
        "\n",
        "import numpy as np\n",
        "import cv2\n",
        "\n",
        "from model_mnist import Basic_CNN\n",
        "\n",
        "\n",
        "from google.colab.patches import cv2_imshow\n",
        "from matplotlib import pyplot as plt\n",
        "\n",
        "from os import listdir\n",
        "from os.path import isfile, join\n",
        "import ipywidgets as widgets\n",
        "from IPython.display import Image\n",
        "\n",
        "#plt.style.use('dark_background')\n",
        "\n"
      ],
      "execution_count": null,
      "outputs": []
    },
    {
      "cell_type": "code",
      "metadata": {
        "id": "SKm56toiuYKq",
        "cellView": "form"
      },
      "source": [
        "\n",
        "#@markdown <center><h1>set the image size</h1></center><br>\n",
        "#@markdown <center><h5>28-100</h5></center><br>\n",
        "\n",
        "\n",
        "IMG_SIZE = 53  #@param {type: \"slider\", min: 28, max: 100}\n",
        "#device = \"cpu\" #@param [\"cpu\",\"cuda\"] {allow-input: false}\n",
        "device = torch.device(\"cuda\" if torch.cuda.is_available() else \"cpu\")\n",
        "#@markdown ---\n"
      ],
      "execution_count": null,
      "outputs": []
    },
    {
      "cell_type": "code",
      "metadata": {
        "id": "ZO3RymIVenIr",
        "cellView": "form",
        "colab": {
          "base_uri": "https://localhost:8080/",
          "height": 344,
          "referenced_widgets": [
            "1246cfe470d14c15884ee12ca51d556c",
            "5d76b831c6c44edf994b9d2873225644",
            "abdcbbae3853410a91cb446d396f5fae",
            "65c936f5455e40c0b425f3a212ea677a",
            "0fa5789724cf4c4fa4e3de54eb60e71a",
            "756852565eb64f1a9ab2576df9ad6d62",
            "e549c80d5061408ea51dcd90f7158f88"
          ]
        },
        "outputId": "a68cd9be-9c0f-4462-cb4e-ee3f41f961c8"
      },
      "source": [
        "#/images\n",
        "#@markdown <center><h1>set the image to be altere</h1></center><br>\n",
        "\n",
        "\n",
        "mypath = \"images\"\n",
        "onlyfiles = [f for f in listdir(mypath) if isfile(join(mypath, f))]\n",
        "onlyfiles\n",
        "\n",
        "\n",
        "\n",
        "images_list = widgets.SelectMultiple(options=onlyfiles,rows=10)\n",
        "\n",
        "\n",
        "@widgets.interact(symbols=images_list)\n",
        "def render(symbols):\n",
        "  global image_path\n",
        "  try:\n",
        "    selected = symbols[0]\n",
        "    image_path = join(mypath, selected)\n",
        "    return Image(filename=image_path,width= 150, height= 150)\n",
        "  except:\n",
        "    print(\"select an image to exploite:\")\n",
        "\n",
        "  \n",
        " "
      ],
      "execution_count": null,
      "outputs": [
        {
          "output_type": "display_data",
          "data": {
            "application/vnd.jupyter.widget-view+json": {
              "model_id": "1246cfe470d14c15884ee12ca51d556c",
              "version_minor": 0,
              "version_major": 2
            },
            "text/plain": [
              "interactive(children=(SelectMultiple(description='symbols', options=('img_Number_16_labled_2.png', 'img_Number…"
            ]
          },
          "metadata": {
            "tags": []
          }
        }
      ]
    },
    {
      "cell_type": "code",
      "metadata": {
        "id": "VD1uYyT4hT8s",
        "colab": {
          "base_uri": "https://localhost:8080/",
          "height": 34
        },
        "outputId": "09fd0726-3eb5-42a6-ae80-ec35f77cf786"
      },
      "source": [
        "print(image_path)"
      ],
      "execution_count": null,
      "outputs": [
        {
          "output_type": "stream",
          "text": [
            "images/img_20.jpg\n"
          ],
          "name": "stdout"
        }
      ]
    },
    {
      "cell_type": "code",
      "metadata": {
        "id": "UUS99LJ27KR-"
      },
      "source": [
        "# load image and reshape to (3, 224, 224) and RGB (not BGR)\n",
        "# preprocess as described here: http://pytorch.org/docs/master/torchvision/models.html\n",
        "orig = cv2.imread(image_path, cv2.IMREAD_GRAYSCALE)\n",
        "orig = cv2.resize(orig, (IMG_SIZE, IMG_SIZE)) ################\n",
        "img = orig.copy().astype(np.float32)  # نسخ الصوره ك مصفوفه\n",
        "perturbation = np.empty_like(orig)  # عمل مصفوفه (صوره) التشويش بنفس حجم الصوره الاصليه\n",
        "# perturbation = np.zeros_like(orig)  # عمل مصفوفه (صوره) التشويش بنفس حجم الصوره الاصليه\n",
        "\n",
        "# normalizing the img\n",
        "mean = [0.5]\n",
        "std = [0.5]\n",
        "img /= 255.0\n",
        "img = (img - mean)/std\n",
        "\n"
      ],
      "execution_count": null,
      "outputs": []
    },
    {
      "cell_type": "code",
      "metadata": {
        "id": "Z3A0uBhjRuea",
        "colab": {
          "base_uri": "https://localhost:8080/"
        },
        "outputId": "1b299094-d73b-45be-a536-a9b047929964"
      },
      "source": [
        "img.shape"
      ],
      "execution_count": null,
      "outputs": [
        {
          "output_type": "execute_result",
          "data": {
            "text/plain": [
              "(28, 28)"
            ]
          },
          "metadata": {
            "tags": []
          },
          "execution_count": 10
        }
      ]
    },
    {
      "cell_type": "code",
      "metadata": {
        "id": "hNx7iwosP5nJ",
        "cellView": "form",
        "colab": {
          "base_uri": "https://localhost:8080/"
        },
        "outputId": "14124023-85d4-4e20-fa0a-34b5a0d76804"
      },
      "source": [
        "# load model\n",
        "#@markdown <br><center><img src=\"https://lh3.googleusercontent.com/fife/ABSRlIppXSyEhpcDatHsaCMiNTtBy_ZKLTWnkD4Yk6S7NQPtG7VlpIdTx0SQZtsUFxlWEjuft2SJU3jt_2HRKskUABSa8QHMQXIgx_jk7gt0c9nHLdqD-qoR22d9r1KSxZ2LtcfMXI4oCJoq5p3_-3k_m-G7HimvnaSksZSbYyGaLoszKuWAK07_i9nHndGzMHFTZPH453QwNSD_0q_Yml1a9YjXOGX4SXH0hI9NGOt9uwRS-Tr7IA9enlFp1-eeOEg42zRsBZE-b7pKGRmpeD6GBo4XE6A1V76LhCMk_RYM5PtVohBA0lt4OCejWvkMrQDGNtRO-3xX7QEtAxbnXoLFgWaJqDrwQm2Ozc2JVmduT_HDx66eFzyjFJg5bWRjSee3pHHCuxx4fGyoAexK_395i9-lnVx0L_3c8_V_NVQoOsJ4_Q_MFt-4Ihv9ttDF8K_PEgzg_yV4Wt2cTUeyV9N-NJ-xibiTbWUQehTWHCLdsegJL_EdC1cuv5K1pnZ8jWS2Z3Ctzq_qrKTJ-5awtnJXUfK2okJmWv-2mwIb3eNiU7hfp2PAAJZYtvRM8TvT9WOsTlOwcyUt6qR4AutyfMuRFsTpHRoAg60lYl1Jch-6S4DLDakdARdirmmXHkp6BFc7Y8dr6usYM9Y0Xr-KFeV7gEnv9vIAJYGc2Lf3h5jptAvvGn91AEUX81m27sHyRzYb1PS3fGiJPHWWneSg4Kcyu8WsIn4VSFfZA4c=w1326-h637-ft\"  alt=\"the model\"  height=\"400\" width=\"1000\" /></img></center>\n",
        "# import hiddenlayer as hl\n",
        "\n",
        "model = Basic_CNN(1, 10)\n",
        "saved = torch.load('9920.pth.tar', map_location='cpu')\n",
        "model.load_state_dict(saved['state_dict'])\n",
        "model.eval()\n",
        "\n",
        "criterion = nn.CrossEntropyLoss() # -y * log(y_hat) - (1-y) * log(1-y_hat)\n",
        "\n",
        "# mod = Basic_CNN(1, 10)\n",
        "# x = torch.randn( 1,1,28,28)\n",
        "\n",
        "# hl.build_graph(mod, x)\n",
        "model"
      ],
      "execution_count": null,
      "outputs": [
        {
          "output_type": "execute_result",
          "data": {
            "text/plain": [
              "Basic_CNN(\n",
              "  (conv1_1): Conv2d(1, 32, kernel_size=(3, 3), stride=(1, 1), padding=(1, 1))\n",
              "  (conv1_2): Conv2d(32, 32, kernel_size=(3, 3), stride=(1, 1), padding=(1, 1))\n",
              "  (maxpool1): MaxPool2d(kernel_size=2, stride=2, padding=0, dilation=1, ceil_mode=False)\n",
              "  (conv2_1): Conv2d(32, 64, kernel_size=(3, 3), stride=(1, 1), padding=(1, 1))\n",
              "  (conv2_2): Conv2d(64, 64, kernel_size=(3, 3), stride=(1, 1), padding=(1, 1))\n",
              "  (maxpool2): MaxPool2d(kernel_size=2, stride=2, padding=0, dilation=1, ceil_mode=False)\n",
              "  (fc1): Linear(in_features=3136, out_features=200, bias=True)\n",
              "  (fc2): Linear(in_features=200, out_features=10, bias=True)\n",
              ")"
            ]
          },
          "metadata": {
            "tags": []
          },
          "execution_count": 11
        }
      ]
    },
    {
      "cell_type": "markdown",
      "metadata": {
        "id": "xUyaR-5jRoF7"
      },
      "source": [
        "((kernel_size)*stride+1)*filters)\n",
        "![image.png](data:image/png;base64,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)"
      ]
    },
    {
      "cell_type": "code",
      "metadata": {
        "id": "Uwc29O3ncjKY",
        "colab": {
          "base_uri": "https://localhost:8080/"
        },
        "outputId": "ddda3260-6e58-4564-981a-8d215220d0c9"
      },
      "source": [
        "\n",
        "\n",
        "# prediction before attack\n",
        "inp = Variable(torch.from_numpy(img).to(device).float().unsqueeze(0).unsqueeze(0), requires_grad=True)\n",
        "orig = torch.from_numpy(img).float().to(device).unsqueeze(0)\n",
        "\n",
        "\n",
        "out = model(inp)\n",
        "org_out =out.data.cpu().numpy()\n",
        "pred = np.argmax(out.data.cpu().numpy())\n",
        "\n",
        "\n",
        "\n",
        "print('Prediction before attack: %s' %(pred))\n",
        "org_out"
      ],
      "execution_count": null,
      "outputs": [
        {
          "output_type": "stream",
          "text": [
            "Prediction before attack: 6\n"
          ],
          "name": "stdout"
        }
      ]
    },
    {
      "cell_type": "code",
      "metadata": {
        "id": "dUTOruFGHD4F",
        "colab": {
          "base_uri": "https://localhost:8080/"
        },
        "outputId": "5b04d028-6be6-40d3-82c2-0e38e770e736"
      },
      "source": [
        "\n",
        "# get trackbar position\n",
        "eps = 150\n",
        "\n",
        "inp = Variable(torch.from_numpy(img).to(device).float().unsqueeze(0).unsqueeze(0), requires_grad=True)\n",
        "\n",
        "\n",
        "out = model(inp)\n",
        "\n",
        "loss = criterion(out, Variable(torch.Tensor([float(pred)]).to(device).long()))\n",
        "# compute gradients\n",
        "loss.backward()\n",
        "\n",
        "\n",
        "# the FGSM equation\n",
        "inp.data = inp.data + ((eps/255.0) * torch.sign(inp.grad.data)) ## optimization funtion// \n",
        "inp.data = inp.data.clamp(min=-1, max=1)\n",
        "#inp.grad.data.zero_() # unnecessary\n",
        "# predict on the adversarial image\n",
        "adv_out =model(inp).data.cpu().numpy()\n",
        "pred_adv = np.argmax(adv_out)\n",
        "print(\"_\"*60) # to clear previous line, not an elegant way\n",
        "print(\"After attack: eps {} \\{}\".format(eps, pred_adv))#, end='\\r')#'eps:', eps, end='\\r')\n",
        "print(\"_\"*60)\n"
      ],
      "execution_count": null,
      "outputs": [
        {
          "output_type": "stream",
          "text": [
            "____________________________________________________________\n",
            "After attack: eps 150 \\6\n",
            "____________________________________________________________\n"
          ],
          "name": "stdout"
        }
      ]
    },
    {
      "cell_type": "code",
      "metadata": {
        "id": "Xh0w6m7J_CJ-",
        "colab": {
          "base_uri": "https://localhost:8080/"
        },
        "outputId": "cb502faf-152d-4441-ea23-4f4ecdec53d3"
      },
      "source": [
        "ort_out, adv_out"
      ],
      "execution_count": null,
      "outputs": [
        {
          "output_type": "stream",
          "text": [
            "____________________________________________________________\n",
            "After attack: eps 50 \\6\n",
            "____________________________________________________________\n"
          ],
          "name": "stdout"
        }
      ]
    },
    {
      "cell_type": "code",
      "metadata": {
        "id": "AI51QbcazBaQ",
        "colab": {
          "base_uri": "https://localhost:8080/",
          "height": 547
        },
        "outputId": "14a0281f-e90b-4adf-b4b2-92287778b369"
      },
      "source": [
        "\n",
        "\n",
        "# deprocess image\n",
        "adv = inp.data.cpu().numpy()[0][0]\n",
        "perturbation = adv-img\n",
        "adv = (adv * std) + mean\n",
        "adv = adv * 255.0\n",
        "adv = np.clip(adv, 0, 255).astype(np.uint8)\n",
        "# perturbation = perturbation*255\n",
        "# perturbation = np.clip(perturbation, 0, 255).astype(np.uint8)\n",
        "\n",
        "\n",
        "\n",
        "# display images\n",
        "plt.imshow(perturbation, cmap=\"gray\")\n",
        "plt.show()\n",
        "\n",
        "plt.imshow(adv, cmap=\"gray\")\n",
        "plt.show()\n",
        "\n",
        "key = input(\"'e' exit / 's' safe\")\n",
        "if key == 'e':\n",
        "    print(\"break\")\n",
        "elif key == 's':\n",
        "    cv2.imwrite('img_adv.png', adv)\n",
        "    cv2.imwrite('perturbation.png', perturbation)\n",
        "    # break\n",
        "\n"
      ],
      "execution_count": null,
      "outputs": [
        {
          "output_type": "display_data",
          "data": {
            "image/png": "[encoded data removed]",
            "text/plain": [
              "<Figure size 432x288 with 1 Axes>"
            ]
          },
          "metadata": {
            "tags": [],
            "needs_background": "light"
          }
        },
        {
          "output_type": "display_data",
          "data": {
            "image/png": "[encoded data removed]",
            "text/plain": [
              "<Figure size 432x288 with 1 Axes>"
            ]
          },
          "metadata": {
            "tags": [],
            "needs_background": "light"
          }
        },
        {
          "output_type": "stream",
          "text": [
            "'e' exit / 's' safee\n",
            "break\n"
          ],
          "name": "stdout"
        }
      ]
    },
    {
      "cell_type": "code",
      "metadata": {
        "id": "92W16ETTSQDu"
      },
      "source": [
        "adv = cv2.imread(\"/content/adv_7.png\", cv2.IMREAD_GRAYSCALE)\n",
        "\n",
        "inp = Variable(torch.from_numpy(adv).to(device).float().unsqueeze(0).unsqueeze(0), requires_grad=True)\n",
        "pred_adv = np.argmax(model(inp).data.cpu().numpy())"
      ],
      "execution_count": null,
      "outputs": []
    },
    {
      "cell_type": "code",
      "metadata": {
        "id": "4Ydipu-ikCBn"
      },
      "source": [
        "perturbation * 255"
      ],
      "execution_count": null,
      "outputs": []
    },
    {
      "cell_type": "code",
      "metadata": {
        "id": "i74PuTLTkEpZ",
        "colab": {
          "base_uri": "https://localhost:8080/",
          "height": 282
        },
        "outputId": "476b37ce-92bf-493e-ecbe-9b58863dfd49"
      },
      "source": [
        "from matplotlib import pyplot as plt\n",
        "from IPython.display import display\n",
        "import PIL\n",
        "\n",
        "an_image = PIL.Image.open(\"perturbation.png\")\n",
        "\n",
        "grayscale_image = an_image.convert(\"L\")\n",
        "grayscale_array = np.asarray(grayscale_image)\n",
        "\n",
        "plt.imshow(grayscale_array, cmap=\"gray\")"
      ],
      "execution_count": null,
      "outputs": [
        {
          "output_type": "execute_result",
          "data": {
            "text/plain": [
              "<matplotlib.image.AxesImage at 0x7f8c23f61630>"
            ]
          },
          "metadata": {
            "tags": []
          },
          "execution_count": 42
        },
        {
          "output_type": "display_data",
          "data": {
            "image/png": "[encoded data removed]",
            "text/plain": [
              "<Figure size 432x288 with 1 Axes>"
            ]
          },
          "metadata": {
            "tags": []
          }
        }
      ]
    },
    {
      "cell_type": "code",
      "metadata": {
        "id": "utTGQHVcTiQe"
      },
      "source": [
        "from torchvision.transforms import ToPILImage\n",
        "from IPython.display import Image\n",
        "to_img = ToPILImage()\n",
        "\n",
        "# display tensor\n",
        "a = t.Tensor(3, 64, 64).normal_()\n",
        "to_img(a)"
      ],
      "execution_count": null,
      "outputs": []
    },
    {
      "cell_type": "code",
      "metadata": {
        "id": "kSq-kCpunMBK"
      },
      "source": [
        "from IPython.display import Image\n",
        "import ipywidgets as widgets\n",
        "from IPython.display import display\n",
        "\n",
        "img1=Image(filename='perturbation.png',width=400, height= 400)\n",
        "img2=Image(filename='img_adv.png',width= 250, height= 250)\n",
        "\n",
        "# output = widgets.Output()\n",
        "\n",
        "# display(img1, output)\n",
        "# #display(img2, output)\n",
        "\n",
        "# with output:\n",
        "#     print(\"changed key = 'e'\")\n",
        "#     #display(img1, output)\n",
        "#     #display(img2, output)\n",
        "img1"
      ],
      "execution_count": null,
      "outputs": []
    },
    {
      "cell_type": "code",
      "metadata": {
        "id": "di4-6PtJkzWp"
      },
      "source": [
        "perturbation"
      ],
      "execution_count": null,
      "outputs": []
    },
    {
      "cell_type": "code",
      "metadata": {
        "id": "lTHfs4-5kd9e"
      },
      "source": [
        "from google.colab import files\n",
        "\n",
        "files.download('perturbation.png')"
      ],
      "execution_count": null,
      "outputs": []
    },
    {
      "cell_type": "code",
      "metadata": {
        "id": "z3Un7QuaiFfe"
      },
      "source": [
        "imge=Image(filename='perturbation.png',width= 400, height= 400)\n",
        "\n",
        "\n",
        "display(output)"
      ],
      "execution_count": null,
      "outputs": []
    }
  ]
}